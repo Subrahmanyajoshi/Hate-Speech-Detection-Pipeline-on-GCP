{
 "cells": [
  {
   "cell_type": "code",
   "execution_count": 5,
   "id": "6e20a701-6757-4320-9be2-0d08e01b5183",
   "metadata": {},
   "outputs": [],
   "source": [
    "import apache_beam as beam\n",
    "import glob\n",
    "import os\n",
    "import sys\n",
    "\n",
    "import google.auth\n",
    "from google.cloud import language_v1\n",
    "\n",
    "from datetime import datetime\n",
    "from apache_beam.options import pipeline_options\n",
    "from apache_beam.options.pipeline_options import GoogleCloudOptions\n",
    "from apache_beam.runners import DataflowRunner\n",
    "\n",
    "import apache_beam.runners.interactive.interactive_beam as ib\n",
    "from apache_beam.runners.interactive.interactive_runner import InteractiveRunner"
   ]
  },
  {
   "cell_type": "code",
   "execution_count": null,
   "id": "e046b0a6-b671-44c4-8f3d-ef010db9ab29",
   "metadata": {},
   "outputs": [],
   "source": []
  },
  {
   "cell_type": "code",
   "execution_count": 6,
   "id": "42221bd6-744a-405a-8080-fb242a913e3e",
   "metadata": {},
   "outputs": [],
   "source": [
    "# Setting up the Apache Beam pipeline options.\n",
    "options = pipeline_options.PipelineOptions(flags=[])\n",
    "\n",
    "# Sets the project to the default project in your current Google Cloud environment.\n",
    "_, options.view_as(GoogleCloudOptions).project = google.auth.default()\n",
    "\n",
    "# Sets the Google Cloud Region in which Cloud Dataflow runs.\n",
    "options.view_as(GoogleCloudOptions).region = 'us-east1'\n",
    "\n",
    "options.view_as(GoogleCloudOptions).job_name = f'textparser-{datetime.now().strftime(\"%Y%m%d-%H%M%S\")}'\n",
    "\n",
    "dataflow_gcs_location = f'gs://text-analysis-323506/{options.view_as(GoogleCloudOptions).job_name}'\n",
    "\n",
    "# The directory to store the output files of the job.\n",
    "output_gcs_location = f\"{dataflow_gcs_location}/output\"\n",
    "\n",
    "# Dataflow Staging Location. This location is used to stage the Dataflow Pipeline and SDK binary.\n",
    "options.view_as(GoogleCloudOptions).staging_location = f\"{dataflow_gcs_location}/staging\"\n",
    "\n",
    "# Dataflow Temp Location. This location is used to store temporary files or intermediate results before finally outputting to the sink.\n",
    "options.view_as(GoogleCloudOptions).temp_location = f\"{dataflow_gcs_location}/temp\""
   ]
  },
  {
   "cell_type": "code",
   "execution_count": 7,
   "id": "2fd1bec6-e4ba-4196-8b63-c1b1e8847e93",
   "metadata": {},
   "outputs": [],
   "source": [
    "# Create pipeline object\n",
    "p = beam.Pipeline(InteractiveRunner(), options=options)"
   ]
  },
  {
   "cell_type": "code",
   "execution_count": 14,
   "id": "75ed4df2-d248-49a2-bf9a-242845d36c27",
   "metadata": {},
   "outputs": [],
   "source": [
    "def strip_lines(message: bytes):\n",
    "    import json\n",
    "    \n",
    "    return json.loads(message.decode(\"utf-8\"))"
   ]
  },
  {
   "cell_type": "code",
   "execution_count": 8,
   "id": "3b3ecabb-1f4f-4b2d-a04d-68647063b1d5",
   "metadata": {},
   "outputs": [],
   "source": [
    "def strip_lines(message: dict):\n",
    "    line = line.strip()\n",
    "    line = ' '.join(line.split())\n",
    "    return lin"
   ]
  },
  {
   "cell_type": "code",
   "execution_count": 11,
   "id": "7a35a58e-e273-4571-a828-d177497cddba",
   "metadata": {},
   "outputs": [],
   "source": [
    "def detect_sentiments(line: str):\n",
    "    document = {'content': text, 'type_': language_v1.Document.Type.PLAIN_TEXT, 'language': 'en'}\n",
    "    response  = language_client.analyze_sentiment(request= {'document': document})\n",
    "    if response.document_sentiment.score > 0:\n",
    "        sentiment = 1\n",
    "    else:\n",
    "        sentiment = 0\n",
    "    return {'sentence': line, 'sentiment': sentiment}\n",
    "    "
   ]
  },
  {
   "cell_type": "code",
   "execution_count": 13,
   "id": "fcd57691-b273-4a44-b772-55cfc683c434",
   "metadata": {},
   "outputs": [
    {
     "ename": "TypeCheckError",
     "evalue": "Type hint violation for '[13]: Strip lines': requires <class 'str'> but got <class 'bytes'> for line\nFull type hint:\nIOTypeHints[inputs=((<class 'str'>,), {}), outputs=((Any,), {})]\nstrip_iterable()\n\nbased on:\n  IOTypeHints[inputs=((<class 'str'>,), {}), outputs=((Iterable[Any],), {})]\n  File \"/root/apache-beam-2.37.0/lib/python3.7/site-packages/IPython/core/interactiveshell.py\", line 3444, in run_ast_nodes\n      if (await self.run_code(code, result,  async_=asy)):\n  File \"/root/apache-beam-2.37.0/lib/python3.7/site-packages/IPython/core/interactiveshell.py\", line 3524, in run_code\n      exec(code_obj, self.user_global_ns, self.user_ns)\n  File \"<ipython-input-13-cbfa07d004fc>\", line 10, in <module>\n      | 'To result topic' >> beam.io.WriteToPubSub(topic='projects/text-analysis-323506/topics/sa-results')\n  File \"/root/apache-beam-2.37.0/lib/python3.7/site-packages/apache_beam/transforms/core.py\", line 1656, in Map\n      wrapper = with_output_types(typehints.Iterable[output_hint])(wrapper)\n  File \"/root/apache-beam-2.37.0/lib/python3.7/site-packages/apache_beam/typehints/decorators.py\", line 863, in annotate_output_types\n      f._type_hints = th.with_output_types(return_type_hint)  # pylint: disable=protected-access\n  \n  based on:\n    IOTypeHints[inputs=((<class 'str'>,), {}), outputs=None]\n    File \"/root/apache-beam-2.37.0/lib/python3.7/site-packages/IPython/core/interactiveshell.py\", line 3444, in run_ast_nodes\n        if (await self.run_code(code, result,  async_=asy)):\n    File \"/root/apache-beam-2.37.0/lib/python3.7/site-packages/IPython/core/interactiveshell.py\", line 3524, in run_code\n        exec(code_obj, self.user_global_ns, self.user_ns)\n    File \"<ipython-input-13-cbfa07d004fc>\", line 10, in <module>\n        | 'To result topic' >> beam.io.WriteToPubSub(topic='projects/text-analysis-323506/topics/sa-results')\n    File \"/root/apache-beam-2.37.0/lib/python3.7/site-packages/apache_beam/transforms/core.py\", line 1653, in Map\n        wrapper)\n    File \"/root/apache-beam-2.37.0/lib/python3.7/site-packages/apache_beam/typehints/decorators.py\", line 776, in annotate_input_types\n        *converted_positional_hints, **converted_keyword_hints)",
     "output_type": "error",
     "traceback": [
      "\u001b[0;31m\u001b[0m",
      "\u001b[0;31mTypeCheckError\u001b[0mTraceback (most recent call last)",
      "\u001b[0;32m<ipython-input-13-cbfa07d004fc>\u001b[0m in \u001b[0;36m<module>\u001b[0;34m\u001b[0m\n\u001b[1;32m      8\u001b[0m                     \u001b[0;34m|\u001b[0m \u001b[0;34m'Remove emojis'\u001b[0m \u001b[0;34m>>\u001b[0m \u001b[0mbeam\u001b[0m\u001b[0;34m.\u001b[0m\u001b[0mMap\u001b[0m\u001b[0;34m(\u001b[0m\u001b[0mremove_emojis\u001b[0m\u001b[0;34m)\u001b[0m\u001b[0;34m\u001b[0m\u001b[0;34m\u001b[0m\u001b[0m\n\u001b[1;32m      9\u001b[0m                     \u001b[0;34m|\u001b[0m \u001b[0;34m'Call gcloud nlp api'\u001b[0m \u001b[0;34m>>\u001b[0m \u001b[0mbeam\u001b[0m\u001b[0;34m.\u001b[0m\u001b[0mmap\u001b[0m\u001b[0;34m(\u001b[0m\u001b[0mdetect_sentiments\u001b[0m\u001b[0;34m)\u001b[0m\u001b[0;34m\u001b[0m\u001b[0;34m\u001b[0m\u001b[0m\n\u001b[0;32m---> 10\u001b[0;31m                     \u001b[0;34m|\u001b[0m \u001b[0;34m'To result topic'\u001b[0m \u001b[0;34m>>\u001b[0m \u001b[0mbeam\u001b[0m\u001b[0;34m.\u001b[0m\u001b[0mio\u001b[0m\u001b[0;34m.\u001b[0m\u001b[0mWriteToPubSub\u001b[0m\u001b[0;34m(\u001b[0m\u001b[0mtopic\u001b[0m\u001b[0;34m=\u001b[0m\u001b[0;34m'projects/text-analysis-323506/topics/sa-results'\u001b[0m\u001b[0;34m)\u001b[0m\u001b[0;34m\u001b[0m\u001b[0;34m\u001b[0m\u001b[0m\n\u001b[0m\u001b[1;32m     11\u001b[0m )\n",
      "\u001b[0;32m~/apache-beam-2.37.0/lib/python3.7/site-packages/apache_beam/pvalue.py\u001b[0m in \u001b[0;36m__or__\u001b[0;34m(self, ptransform)\u001b[0m\n\u001b[1;32m    135\u001b[0m \u001b[0;34m\u001b[0m\u001b[0m\n\u001b[1;32m    136\u001b[0m   \u001b[0;32mdef\u001b[0m \u001b[0m__or__\u001b[0m\u001b[0;34m(\u001b[0m\u001b[0mself\u001b[0m\u001b[0;34m,\u001b[0m \u001b[0mptransform\u001b[0m\u001b[0;34m)\u001b[0m\u001b[0;34m:\u001b[0m\u001b[0;34m\u001b[0m\u001b[0;34m\u001b[0m\u001b[0m\n\u001b[0;32m--> 137\u001b[0;31m     \u001b[0;32mreturn\u001b[0m \u001b[0mself\u001b[0m\u001b[0;34m.\u001b[0m\u001b[0mpipeline\u001b[0m\u001b[0;34m.\u001b[0m\u001b[0mapply\u001b[0m\u001b[0;34m(\u001b[0m\u001b[0mptransform\u001b[0m\u001b[0;34m,\u001b[0m \u001b[0mself\u001b[0m\u001b[0;34m)\u001b[0m\u001b[0;34m\u001b[0m\u001b[0;34m\u001b[0m\u001b[0m\n\u001b[0m\u001b[1;32m    138\u001b[0m \u001b[0;34m\u001b[0m\u001b[0m\n\u001b[1;32m    139\u001b[0m \u001b[0;34m\u001b[0m\u001b[0m\n",
      "\u001b[0;32m~/apache-beam-2.37.0/lib/python3.7/site-packages/apache_beam/pipeline.py\u001b[0m in \u001b[0;36mapply\u001b[0;34m(self, transform, pvalueish, label)\u001b[0m\n\u001b[1;32m    650\u001b[0m     \u001b[0;32mif\u001b[0m \u001b[0misinstance\u001b[0m\u001b[0;34m(\u001b[0m\u001b[0mtransform\u001b[0m\u001b[0;34m,\u001b[0m \u001b[0mptransform\u001b[0m\u001b[0;34m.\u001b[0m\u001b[0m_NamedPTransform\u001b[0m\u001b[0;34m)\u001b[0m\u001b[0;34m:\u001b[0m\u001b[0;34m\u001b[0m\u001b[0;34m\u001b[0m\u001b[0m\n\u001b[1;32m    651\u001b[0m       return self.apply(\n\u001b[0;32m--> 652\u001b[0;31m           transform.transform, pvalueish, label or transform.label)\n\u001b[0m\u001b[1;32m    653\u001b[0m \u001b[0;34m\u001b[0m\u001b[0m\n\u001b[1;32m    654\u001b[0m     \u001b[0;32mif\u001b[0m \u001b[0;32mnot\u001b[0m \u001b[0misinstance\u001b[0m\u001b[0;34m(\u001b[0m\u001b[0mtransform\u001b[0m\u001b[0;34m,\u001b[0m \u001b[0mptransform\u001b[0m\u001b[0;34m.\u001b[0m\u001b[0mPTransform\u001b[0m\u001b[0;34m)\u001b[0m\u001b[0;34m:\u001b[0m\u001b[0;34m\u001b[0m\u001b[0;34m\u001b[0m\u001b[0m\n",
      "\u001b[0;32m~/apache-beam-2.37.0/lib/python3.7/site-packages/apache_beam/pipeline.py\u001b[0m in \u001b[0;36mapply\u001b[0;34m(self, transform, pvalueish, label)\u001b[0m\n\u001b[1;32m    660\u001b[0m       \u001b[0;32mtry\u001b[0m\u001b[0;34m:\u001b[0m\u001b[0;34m\u001b[0m\u001b[0;34m\u001b[0m\u001b[0m\n\u001b[1;32m    661\u001b[0m         \u001b[0mold_label\u001b[0m\u001b[0;34m,\u001b[0m \u001b[0mtransform\u001b[0m\u001b[0;34m.\u001b[0m\u001b[0mlabel\u001b[0m \u001b[0;34m=\u001b[0m \u001b[0mtransform\u001b[0m\u001b[0;34m.\u001b[0m\u001b[0mlabel\u001b[0m\u001b[0;34m,\u001b[0m \u001b[0mlabel\u001b[0m\u001b[0;34m\u001b[0m\u001b[0;34m\u001b[0m\u001b[0m\n\u001b[0;32m--> 662\u001b[0;31m         \u001b[0;32mreturn\u001b[0m \u001b[0mself\u001b[0m\u001b[0;34m.\u001b[0m\u001b[0mapply\u001b[0m\u001b[0;34m(\u001b[0m\u001b[0mtransform\u001b[0m\u001b[0;34m,\u001b[0m \u001b[0mpvalueish\u001b[0m\u001b[0;34m)\u001b[0m\u001b[0;34m\u001b[0m\u001b[0;34m\u001b[0m\u001b[0m\n\u001b[0m\u001b[1;32m    663\u001b[0m       \u001b[0;32mfinally\u001b[0m\u001b[0;34m:\u001b[0m\u001b[0;34m\u001b[0m\u001b[0;34m\u001b[0m\u001b[0m\n\u001b[1;32m    664\u001b[0m         \u001b[0mtransform\u001b[0m\u001b[0;34m.\u001b[0m\u001b[0mlabel\u001b[0m \u001b[0;34m=\u001b[0m \u001b[0mold_label\u001b[0m\u001b[0;34m\u001b[0m\u001b[0;34m\u001b[0m\u001b[0m\n",
      "\u001b[0;32m~/apache-beam-2.37.0/lib/python3.7/site-packages/apache_beam/pipeline.py\u001b[0m in \u001b[0;36mapply\u001b[0;34m(self, transform, pvalueish, label)\u001b[0m\n\u001b[1;32m    704\u001b[0m       \u001b[0mtype_options\u001b[0m \u001b[0;34m=\u001b[0m \u001b[0mself\u001b[0m\u001b[0;34m.\u001b[0m\u001b[0m_options\u001b[0m\u001b[0;34m.\u001b[0m\u001b[0mview_as\u001b[0m\u001b[0;34m(\u001b[0m\u001b[0mTypeOptions\u001b[0m\u001b[0;34m)\u001b[0m\u001b[0;34m\u001b[0m\u001b[0;34m\u001b[0m\u001b[0m\n\u001b[1;32m    705\u001b[0m       \u001b[0;32mif\u001b[0m \u001b[0mtype_options\u001b[0m\u001b[0;34m.\u001b[0m\u001b[0mpipeline_type_check\u001b[0m\u001b[0;34m:\u001b[0m\u001b[0;34m\u001b[0m\u001b[0;34m\u001b[0m\u001b[0m\n\u001b[0;32m--> 706\u001b[0;31m         \u001b[0mtransform\u001b[0m\u001b[0;34m.\u001b[0m\u001b[0mtype_check_inputs\u001b[0m\u001b[0;34m(\u001b[0m\u001b[0mpvalueish\u001b[0m\u001b[0;34m)\u001b[0m\u001b[0;34m\u001b[0m\u001b[0;34m\u001b[0m\u001b[0m\n\u001b[0m\u001b[1;32m    707\u001b[0m \u001b[0;34m\u001b[0m\u001b[0m\n\u001b[1;32m    708\u001b[0m       \u001b[0mpvalueish_result\u001b[0m \u001b[0;34m=\u001b[0m \u001b[0mself\u001b[0m\u001b[0;34m.\u001b[0m\u001b[0mrunner\u001b[0m\u001b[0;34m.\u001b[0m\u001b[0mapply\u001b[0m\u001b[0;34m(\u001b[0m\u001b[0mtransform\u001b[0m\u001b[0;34m,\u001b[0m \u001b[0mpvalueish\u001b[0m\u001b[0;34m,\u001b[0m \u001b[0mself\u001b[0m\u001b[0;34m.\u001b[0m\u001b[0m_options\u001b[0m\u001b[0;34m)\u001b[0m\u001b[0;34m\u001b[0m\u001b[0;34m\u001b[0m\u001b[0m\n",
      "\u001b[0;32m~/apache-beam-2.37.0/lib/python3.7/site-packages/apache_beam/transforms/ptransform.py\u001b[0m in \u001b[0;36mtype_check_inputs\u001b[0;34m(self, pvalueish)\u001b[0m\n\u001b[1;32m    945\u001b[0m                   \u001b[0mactual_type\u001b[0m\u001b[0;34m=\u001b[0m\u001b[0mbindings\u001b[0m\u001b[0;34m[\u001b[0m\u001b[0marg\u001b[0m\u001b[0;34m]\u001b[0m\u001b[0;34m,\u001b[0m\u001b[0;34m\u001b[0m\u001b[0;34m\u001b[0m\u001b[0m\n\u001b[1;32m    946\u001b[0m                   \u001b[0marg\u001b[0m\u001b[0;34m=\u001b[0m\u001b[0marg\u001b[0m\u001b[0;34m,\u001b[0m\u001b[0;34m\u001b[0m\u001b[0;34m\u001b[0m\u001b[0m\n\u001b[0;32m--> 947\u001b[0;31m                   debug_str=type_hints.debug_str()))\n\u001b[0m\u001b[1;32m    948\u001b[0m \u001b[0;34m\u001b[0m\u001b[0m\n\u001b[1;32m    949\u001b[0m   \u001b[0;32mdef\u001b[0m \u001b[0m_process_argspec_fn\u001b[0m\u001b[0;34m(\u001b[0m\u001b[0mself\u001b[0m\u001b[0;34m)\u001b[0m\u001b[0;34m:\u001b[0m\u001b[0;34m\u001b[0m\u001b[0;34m\u001b[0m\u001b[0m\n",
      "\u001b[0;31mTypeCheckError\u001b[0m: Type hint violation for '[13]: Strip lines': requires <class 'str'> but got <class 'bytes'> for line\nFull type hint:\nIOTypeHints[inputs=((<class 'str'>,), {}), outputs=((Any,), {})]\nstrip_iterable()\n\nbased on:\n  IOTypeHints[inputs=((<class 'str'>,), {}), outputs=((Iterable[Any],), {})]\n  File \"/root/apache-beam-2.37.0/lib/python3.7/site-packages/IPython/core/interactiveshell.py\", line 3444, in run_ast_nodes\n      if (await self.run_code(code, result,  async_=asy)):\n  File \"/root/apache-beam-2.37.0/lib/python3.7/site-packages/IPython/core/interactiveshell.py\", line 3524, in run_code\n      exec(code_obj, self.user_global_ns, self.user_ns)\n  File \"<ipython-input-13-cbfa07d004fc>\", line 10, in <module>\n      | 'To result topic' >> beam.io.WriteToPubSub(topic='projects/text-analysis-323506/topics/sa-results')\n  File \"/root/apache-beam-2.37.0/lib/python3.7/site-packages/apache_beam/transforms/core.py\", line 1656, in Map\n      wrapper = with_output_types(typehints.Iterable[output_hint])(wrapper)\n  File \"/root/apache-beam-2.37.0/lib/python3.7/site-packages/apache_beam/typehints/decorators.py\", line 863, in annotate_output_types\n      f._type_hints = th.with_output_types(return_type_hint)  # pylint: disable=protected-access\n  \n  based on:\n    IOTypeHints[inputs=((<class 'str'>,), {}), outputs=None]\n    File \"/root/apache-beam-2.37.0/lib/python3.7/site-packages/IPython/core/interactiveshell.py\", line 3444, in run_ast_nodes\n        if (await self.run_code(code, result,  async_=asy)):\n    File \"/root/apache-beam-2.37.0/lib/python3.7/site-packages/IPython/core/interactiveshell.py\", line 3524, in run_code\n        exec(code_obj, self.user_global_ns, self.user_ns)\n    File \"<ipython-input-13-cbfa07d004fc>\", line 10, in <module>\n        | 'To result topic' >> beam.io.WriteToPubSub(topic='projects/text-analysis-323506/topics/sa-results')\n    File \"/root/apache-beam-2.37.0/lib/python3.7/site-packages/apache_beam/transforms/core.py\", line 1653, in Map\n        wrapper)\n    File \"/root/apache-beam-2.37.0/lib/python3.7/site-packages/apache_beam/typehints/decorators.py\", line 776, in annotate_input_types\n        *converted_positional_hints, **converted_keyword_hints)"
     ]
    }
   ],
   "source": [
    "# Add pipeline components\n",
    "language_client = language_v1.LanguageServiceClient()\n",
    "csv_details =   (\n",
    "                    p \n",
    "                    | 'Consume messages' >> beam.io.ReadFromPubSub(topic='projects/text-analysis-323506/topics/reviews-texts')\n",
    "                    | 'Convert to str' >> beam.Map()\n",
    "                    | 'Strip lines' >> beam.Map(strip_lines)\n",
    "                    | 'Remove special characters' >> beam.Map(remove_special_chars)\n",
    "                    | 'Remove emojis' >> beam.Map(remove_emojis)\n",
    "                    | 'Call gcloud nlp api' >> beam.Map(detect_sentiments)\n",
    "                    | 'To result topic' >> beam.io.WriteToPubSub(topic='projects/text-analysis-323506/topics/sa-results')\n",
    ")"
   ]
  },
  {
   "cell_type": "code",
   "execution_count": null,
   "id": "cb107c2d-ee02-42f9-b584-e5b11c9b9a65",
   "metadata": {},
   "outputs": [],
   "source": []
  },
  {
   "cell_type": "code",
   "execution_count": null,
   "id": "71440209-2bf5-4682-a77f-7269b547a2de",
   "metadata": {},
   "outputs": [],
   "source": [
    "ib.show_graph(p)"
   ]
  },
  {
   "cell_type": "code",
   "execution_count": null,
   "id": "6a1566a5-bc6d-47fd-9d75-0a1d88b37a38",
   "metadata": {},
   "outputs": [],
   "source": [
    "# Submit job\n",
    "# Important: Enable dataflow api if not enabled, in google cloud platform console\n",
    "pipeline_result = DataflowRunner().run_pipeline(p, options=options)"
   ]
  }
 ],
 "metadata": {
  "kernelspec": {
   "display_name": "01. Apache Beam 2.37.0 for Python 3",
   "language": "python",
   "name": "01-apache-beam-2.37.0"
  },
  "language_info": {
   "codemirror_mode": {
    "name": "ipython",
    "version": 3
   },
   "file_extension": ".py",
   "mimetype": "text/x-python",
   "name": "python",
   "nbconvert_exporter": "python",
   "pygments_lexer": "ipython3",
   "version": "3.7.12"
  }
 },
 "nbformat": 4,
 "nbformat_minor": 5
}
