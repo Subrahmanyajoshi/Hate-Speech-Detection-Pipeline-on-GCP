{
 "cells": [
  {
   "cell_type": "code",
   "execution_count": 3,
   "id": "6e20a701-6757-4320-9be2-0d08e01b5183",
   "metadata": {},
   "outputs": [],
   "source": [
    "import apache_beam as beam\n",
    "import glob\n",
    "import os\n",
    "import sys\n",
    "\n",
    "import google.auth\n",
    "from datetime import datetime\n",
    "from apache_beam.options import pipeline_options\n",
    "from apache_beam.options.pipeline_options import GoogleCloudOptions, StandardOptions\n",
    "from apache_beam.runners import DataflowRunner\n",
    "\n",
    "from apache_beam.ml.gcp import naturallanguageml as nlp\n",
    "import apache_beam.runners.interactive.interactive_beam as ib\n",
    "from apache_beam.runners.interactive.interactive_runner import InteractiveRunner\n",
    "\n",
    "\n",
    "from apache_beam import DoFn, GroupByKey, io, ParDo, Pipeline, PTransform, WindowInto, WithKeys"
   ]
  },
  {
   "cell_type": "code",
   "execution_count": 4,
   "id": "42221bd6-744a-405a-8080-fb242a913e3e",
   "metadata": {},
   "outputs": [],
   "source": [
    "# Setting up the Apache Beam pipeline options.\n",
    "options = pipeline_options.PipelineOptions(streaming=True, save_main_session=True)\n",
    "\n",
    "# Sets the project to the default project in your current Google Cloud environment.\n",
    "_, options.view_as(GoogleCloudOptions).project = google.auth.default()\n",
    "\n",
    "# Sets the Google Cloud Region in which Cloud Dataflow runs.\n",
    "options.view_as(GoogleCloudOptions).region = 'us-east1'\n",
    "\n",
    "options.view_as(GoogleCloudOptions).job_name = f'textparser-{datetime.now().strftime(\"%Y%m%d-%H%M%S\")}'\n",
    "\n",
    "dataflow_gcs_location = f'gs://text-analysis-323506/{options.view_as(GoogleCloudOptions).job_name}'\n",
    "\n",
    "# The directory to store the output files of the job.\n",
    "output_gcs_location = f\"{dataflow_gcs_location}/output\"\n",
    "\n",
    "# Dataflow Staging Location. This location is used to stage the Dataflow Pipeline and SDK binary.\n",
    "options.view_as(GoogleCloudOptions).staging_location = f\"{dataflow_gcs_location}/staging\"\n",
    "\n",
    "# Dataflow Temp Location. This location is used to store temporary files or intermediate results before finally outputting to the sink.\n",
    "options.view_as(GoogleCloudOptions).temp_location = f\"{dataflow_gcs_location}/temp\""
   ]
  },
  {
   "cell_type": "code",
   "execution_count": 5,
   "id": "2fd1bec6-e4ba-4196-8b63-c1b1e8847e93",
   "metadata": {},
   "outputs": [],
   "source": [
    "# Create pipeline object\n",
    "# p = beam.Pipeline(InteractiveRunner(), options=options)"
   ]
  },
  {
   "cell_type": "code",
   "execution_count": 6,
   "id": "75ed4df2-d248-49a2-bf9a-242845d36c27",
   "metadata": {},
   "outputs": [],
   "source": [
    "def get_review(message: bytes):\n",
    "    import json\n",
    "\n",
    "    return json.loads(message.decode(\"utf-8\"))['review']"
   ]
  },
  {
   "cell_type": "code",
   "execution_count": 7,
   "id": "3b3ecabb-1f4f-4b2d-a04d-68647063b1d5",
   "metadata": {},
   "outputs": [],
   "source": [
    "def strip_lines(line: str):\n",
    "    line = line.strip()\n",
    "    line = ' '.join(line.split())\n",
    "    return line"
   ]
  },
  {
   "cell_type": "code",
   "execution_count": 8,
   "id": "019139ca-b459-4ed0-b3ff-9de8441fbc09",
   "metadata": {},
   "outputs": [],
   "source": [
    "def remove_emojis(line: str):\n",
    "    import re\n",
    "    \n",
    "    emoj = re.compile(\"[\"\n",
    "        u\"\\U0001F600-\\U0001F64F\"  # emoticons\n",
    "        u\"\\U0001F300-\\U0001F5FF\"  # symbols & pictographs\n",
    "        u\"\\U0001F680-\\U0001F6FF\"  # transport & map symbols\n",
    "        u\"\\U0001F1E0-\\U0001F1FF\"  # flags (iOS)\n",
    "        u\"\\U00002500-\\U00002BEF\"  # chinese char\n",
    "        u\"\\U00002702-\\U000027B0\"\n",
    "        u\"\\U00002702-\\U000027B0\"\n",
    "        u\"\\U000024C2-\\U0001F251\"\n",
    "        u\"\\U0001f926-\\U0001f937\"\n",
    "        u\"\\U00010000-\\U0010ffff\"\n",
    "        u\"\\u2640-\\u2642\" \n",
    "        u\"\\u2600-\\u2B55\"\n",
    "        u\"\\u200d\"\n",
    "        u\"\\u23cf\"\n",
    "        u\"\\u23e9\"\n",
    "        u\"\\u231a\"\n",
    "        u\"\\ufe0f\"  # dingbats\n",
    "        u\"\\u3030\"\n",
    "                      \"]+\", re.UNICODE)\n",
    "    return re.sub(emoj, '', line)"
   ]
  },
  {
   "cell_type": "code",
   "execution_count": 9,
   "id": "3f8b886a-769f-4eba-826c-9a3cd9bff98a",
   "metadata": {},
   "outputs": [],
   "source": [
    "def parse_response(response):\n",
    "    import json\n",
    "    \n",
    "    final_sentence = ''\n",
    "    \n",
    "    for sentence in response.sentences:\n",
    "        final_sentence += sentence.text.content\n",
    "        \n",
    "    message = json.dumps({'review': final_sentence, 'sentiment': response.document_sentiment.score})\n",
    "    return message.encode(\"utf-8\")"
   ]
  },
  {
   "cell_type": "code",
   "execution_count": 10,
   "id": "ab0ba230-c6b3-4b9d-bf30-d20cf084efce",
   "metadata": {},
   "outputs": [],
   "source": [
    "def convert_to_nlp(line: str):\n",
    "    return nlp.Document(line, type='PLAIN_TEXT')"
   ]
  },
  {
   "cell_type": "code",
   "execution_count": null,
   "id": "fcd57691-b273-4a44-b772-55cfc683c434",
   "metadata": {},
   "outputs": [],
   "source": [
    "# # Add pipeline components\n",
    "\n",
    "features = nlp.types.AnnotateTextRequest.Features(\n",
    "    extract_document_sentiment=True)\n",
    "\n",
    "with Pipeline(options=options) as pipeline:\n",
    "     (\n",
    "        pipeline\n",
    "        | 'Consume messages' >> io.gcp.pubsub.ReadFromPubSub(subscription='projects/text-analysis-323506/subscriptions/reviews-texts2-sub')\n",
    "        | 'get review' >> beam.Map(get_review)\n",
    "        | 'Strip lines' >> beam.Map(strip_lines)\n",
    "        | 'Remove emojis' >> beam.Map(remove_emojis)\n",
    "        | 'convert to doc' >> beam.Map(convert_to_nlp)\n",
    "        | 'Call gcloud nlp api' >> nlp.AnnotateText(features)\n",
    "        | 'process response' >> beam.Map(parse_response)\n",
    "        | 'To result topic' >> beam.io.WriteToPubSub(topic='projects/text-analysis-323506/topics/sa-results')\n",
    "    )"
   ]
  },
  {
   "cell_type": "code",
   "execution_count": null,
   "id": "cb107c2d-ee02-42f9-b584-e5b11c9b9a65",
   "metadata": {},
   "outputs": [],
   "source": []
  },
  {
   "cell_type": "code",
   "execution_count": null,
   "id": "176bc718-95de-4676-b679-8387cdfbdbca",
   "metadata": {},
   "outputs": [],
   "source": []
  },
  {
   "cell_type": "code",
   "execution_count": null,
   "id": "99951473-8891-43a8-b9ab-af966527515c",
   "metadata": {},
   "outputs": [],
   "source": []
  }
 ],
 "metadata": {
  "kernelspec": {
   "display_name": "01. Apache Beam 2.37.0 for Python 3",
   "language": "python",
   "name": "01-apache-beam-2.37.0"
  },
  "language_info": {
   "codemirror_mode": {
    "name": "ipython",
    "version": 3
   },
   "file_extension": ".py",
   "mimetype": "text/x-python",
   "name": "python",
   "nbconvert_exporter": "python",
   "pygments_lexer": "ipython3",
   "version": "3.7.12"
  }
 },
 "nbformat": 4,
 "nbformat_minor": 5
}
