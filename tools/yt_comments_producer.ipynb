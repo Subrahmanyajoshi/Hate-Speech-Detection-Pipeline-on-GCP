{
 "cells": [
  {
   "cell_type": "code",
   "execution_count": null,
   "id": "704c3033",
   "metadata": {},
   "outputs": [],
   "source": [
    "import os\n",
    "\n",
    "from googleapiclient.discovery import build\n",
    "\n",
    "import time\n",
    "import json\n",
    "from typing import Dict\n",
    "from google.cloud import pubsub_v1"
   ]
  },
  {
   "cell_type": "code",
   "execution_count": null,
   "id": "eb40afb0",
   "metadata": {},
   "outputs": [],
   "source": [
    "os.environ[\"GOOGLE_APPLICATION_CREDENTIALS\"] = os.path.abspath(r\"C:\\Users\\Subrahmanya Joshi\\Documents\\project_data\\credentials\\key.json\")"
   ]
  },
  {
   "cell_type": "code",
   "execution_count": null,
   "id": "e7ed9cb8",
   "metadata": {},
   "outputs": [],
   "source": [
    "class PubSubPublisher(object):\n",
    "\n",
    "    def __init__(self, project_id: str, topic_id: str):\n",
    "        self.publisher = pubsub_v1.PublisherClient()\n",
    "        self.topic_path = self.publisher.topic_path(project_id, topic_id)\n",
    "\n",
    "    def publish(self, message: Dict):\n",
    "\n",
    "        # Convert dictionary to a json string\n",
    "        message = json.dumps(message)\n",
    "\n",
    "        # Data must be a byte string\n",
    "        data = message.encode(\"utf-8\")\n",
    "        # When you publish a message, the client returns a future.\n",
    "        _ = self.publisher.publish(self.topic_path, data)"
   ]
  },
  {
   "cell_type": "code",
   "execution_count": null,
   "id": "4e352af0",
   "metadata": {},
   "outputs": [],
   "source": [
    "publisher = PubSubPublisher(project_id='text-analysis-323506', topic_id='yt-comments')"
   ]
  },
  {
   "cell_type": "code",
   "execution_count": null,
   "id": "d2a5ca84",
   "metadata": {},
   "outputs": [],
   "source": [
    "# Arguments that need to passed to the build function\n",
    "# API Key needs to be created in Google Cloud Console.- https://console.cloud.google.com/apis/api/youtube.googleapis.com/metrics\n",
    "DEVELOPER_KEY = ''\n",
    "YOUTUBE_API_SERVICE_NAME = \"youtube\"\n",
    "YOUTUBE_API_VERSION = \"v3\"\n",
    "   \n",
    "# creating Youtube Resource Object\n",
    "youtube_object = build(YOUTUBE_API_SERVICE_NAME, YOUTUBE_API_VERSION, developerKey = DEVELOPER_KEY)"
   ]
  },
  {
   "cell_type": "code",
   "execution_count": null,
   "id": "c8e181aa",
   "metadata": {},
   "outputs": [],
   "source": [
    "# Enter search keyword\n",
    "keyword = \"Elon Musk\""
   ]
  },
  {
   "cell_type": "code",
   "execution_count": null,
   "id": "6eb0802e",
   "metadata": {},
   "outputs": [],
   "source": [
    "# Search \n",
    "search_keyword = youtube_object.search().list(q = keyword, part = \"id, snippet\", maxResults = 100).execute()\n",
    "results = search_keyword.get(\"items\", [])"
   ]
  },
  {
   "cell_type": "markdown",
   "id": "409a2007",
   "metadata": {},
   "source": [
    "### Extract information about videos, playlists, channels"
   ]
  },
  {
   "cell_type": "code",
   "execution_count": null,
   "id": "deb1fe89",
   "metadata": {},
   "outputs": [],
   "source": [
    "videos = []\n",
    "playlists = []\n",
    "channels = []\n",
    "\n",
    "for result in results:\n",
    "    # videos\n",
    "    if result['id']['kind'] == \"youtube#video\":\n",
    "        videos.append({'title': result[\"snippet\"][\"title\"],\n",
    "                       'id': result[\"id\"][\"videoId\"],\n",
    "                       'decription': result['snippet']['description'],\n",
    "                       'url': result['snippet']['thumbnails']['default']['url']})\n",
    "\n",
    "    # playlists\n",
    "    elif result['id']['kind'] == \"youtube#playlist\":\n",
    "        playlists.append({'title': result[\"snippet\"][\"title\"],\n",
    "                          'id': result[\"id\"][\"playlistId\"],\n",
    "                          'decription': result['snippet']['description'],\n",
    "                          'url': result['snippet']['thumbnails']['default']['url']})\n",
    "\n",
    "    # channels\n",
    "    elif result['id']['kind'] == \"youtube#channel\":\n",
    "        channels.append({'title': result[\"snippet\"][\"title\"],\n",
    "                         'id': result[\"id\"][\"channelId\"],\n",
    "                         'decription': result['snippet']['description'],\n",
    "                         'url': result['snippet']['thumbnails']['default']['url']})"
   ]
  },
  {
   "cell_type": "code",
   "execution_count": null,
   "id": "b3ae7186",
   "metadata": {
    "scrolled": true
   },
   "outputs": [],
   "source": [
    "print(f\"Videos: {len(videos)}\\nPlaylists: {len(playlists)}\\nChannels: {len(channels)}\")"
   ]
  },
  {
   "cell_type": "markdown",
   "id": "aee1f3db",
   "metadata": {},
   "source": [
    "### Extract Comments and replies from videos"
   ]
  },
  {
   "cell_type": "code",
   "execution_count": null,
   "id": "19c8cab5",
   "metadata": {},
   "outputs": [],
   "source": [
    "def get_comment_threads(youtube, video_id, nextPageToken):\n",
    "    results = youtube.commentThreads().list(\n",
    "        part=\"snippet,replies\",\n",
    "        maxResults=100,\n",
    "        videoId=video_id,\n",
    "        textFormat=\"plainText\",\n",
    "        pageToken = nextPageToken\n",
    "    ).execute()\n",
    "    return results"
   ]
  },
  {
   "cell_type": "code",
   "execution_count": null,
   "id": "0d8ab84f",
   "metadata": {},
   "outputs": [],
   "source": [
    "def load_comments(video_response, video_id):\n",
    "    \n",
    "    comms = []\n",
    "    for item in video_response['items']:\n",
    "\n",
    "        # Extracting comments\n",
    "        comment = item['snippet']['topLevelComment']['snippet']['textDisplay']\n",
    "        user_name = item['snippet']['topLevelComment']['snippet']['authorDisplayName']\n",
    "        user_url = item['snippet']['topLevelComment']['snippet']['authorChannelUrl']\n",
    "        user_id = item['snippet']['topLevelComment']['snippet']['authorChannelId'].get('value')\n",
    "        timestamp = item['snippet']['topLevelComment']['snippet']['publishedAt']\n",
    "        comms.append({'timestamp': timestamp, 'text': comment, 'user_name': user_name, 'user_id': user_id, \n",
    "                      'user_profile': user_url, 'video_id': video_id})\n",
    "\n",
    "        # counting number of reply of comment\n",
    "        replycount = item['snippet']['totalReplyCount']\n",
    "\n",
    "        if replycount > 0:\n",
    "            if 'replies' not in item:\n",
    "                continue\n",
    "            for reply in item['replies']['comments']:\n",
    "                comment = reply['snippet']['textDisplay']\n",
    "                user_name = reply['snippet']['authorDisplayName']\n",
    "                user_url = reply['snippet']['authorChannelUrl']\n",
    "                user_id = reply['snippet']['authorChannelId'].get('value')\n",
    "                timestamp = reply['snippet']['publishedAt']\n",
    "                comms.append({'timestamp': timestamp, 'text': comment, 'user_name': user_name, 'user_id': user_id, \n",
    "                      'user_profile': user_url, 'video_id': video_id})\n",
    "    return comms"
   ]
  },
  {
   "cell_type": "code",
   "execution_count": null,
   "id": "49ca45be",
   "metadata": {},
   "outputs": [],
   "source": [
    "comments = []\n",
    "\n",
    "# Get comments from only top 10 search results\n",
    "for video in videos[:1]:\n",
    "    \n",
    "    video_id = video['id']\n",
    "    video_response=get_comment_threads(youtube_object, video_id, '')\n",
    "    next_page_token = video_response.get(\"nextPageToken\", None)\n",
    "    comments += load_comments(video_response, video_id)\n",
    "    \n",
    "    while next_page_token:\n",
    "        video_response=get_comment_threads(youtube_object, video_id, next_page_token)\n",
    "        next_page_token = video_response.get(\"nextPageToken\", None)\n",
    "        comments += load_comments(video_response, video_id)"
   ]
  },
  {
   "cell_type": "code",
   "execution_count": null,
   "id": "e43a2e77",
   "metadata": {},
   "outputs": [],
   "source": [
    "len(comments)"
   ]
  },
  {
   "cell_type": "markdown",
   "id": "cbf425b4",
   "metadata": {},
   "source": [
    "### Publish comments to PubSub topic"
   ]
  },
  {
   "cell_type": "code",
   "execution_count": null,
   "id": "89bfb52f",
   "metadata": {
    "scrolled": false
   },
   "outputs": [],
   "source": [
    "for comment in comments:\n",
    "    print(comment['text'])\n",
    "    publisher.publish(message=comment)\n",
    "    time.sleep(5)"
   ]
  },
  {
   "cell_type": "code",
   "execution_count": null,
   "id": "97e7f96c",
   "metadata": {},
   "outputs": [],
   "source": []
  }
 ],
 "metadata": {
  "kernelspec": {
   "display_name": "Python 3",
   "language": "python",
   "name": "python3"
  },
  "language_info": {
   "codemirror_mode": {
    "name": "ipython",
    "version": 3
   },
   "file_extension": ".py",
   "mimetype": "text/x-python",
   "name": "python",
   "nbconvert_exporter": "python",
   "pygments_lexer": "ipython3",
   "version": "3.8.8"
  }
 },
 "nbformat": 4,
 "nbformat_minor": 5
}
